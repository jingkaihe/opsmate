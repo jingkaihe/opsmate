{
 "cells": [
  {
   "cell_type": "markdown",
   "metadata": {},
   "source": [
    "# Knowledge eval using the kubernetes website data"
   ]
  },
  {
   "cell_type": "code",
   "execution_count": 5,
   "metadata": {},
   "outputs": [],
   "source": [
    "from opsmate.libs.knowledge import (\n",
    "    Runbook,\n",
    "    get_runbooks_table,\n",
    "    DatabaseConnection,\n",
    "    DocumentIngester,\n",
    ")\n",
    "from opsmate.libs.core.types import DocumentIngestion, DocumentIngestionSpec, Metadata\n",
    "from opsmate.libs.config import config\n",
    "import pandas as pd\n",
    "from pydantic import BaseModel\n",
    "config.embeddings_db_path = \"./opsmate-embedding\"\n",
    "config.embedding_registry_name = \"openai\"\n",
    "config.embedding_model_name = \"text-embedding-3-small\"\n"
   ]
  },
  {
   "cell_type": "code",
   "execution_count": 2,
   "metadata": {},
   "outputs": [],
   "source": [
    "%%bash\n",
    "\n",
    "if [ ! -d \"website\" ]; then\n",
    "    git clone git@github.com:kubernetes/website.git --depth=1\n",
    "fi"
   ]
  },
  {
   "cell_type": "markdown",
   "metadata": {},
   "source": [
    "Now let's import the kubernetes website data into the embedding database"
   ]
  },
  {
   "cell_type": "code",
   "execution_count": 6,
   "metadata": {},
   "outputs": [
    {
     "name": "stdout",
     "output_type": "stream",
     "text": [
      "\u001b[2m2024-11-15 15:02:59\u001b[0m [\u001b[32m\u001b[1minfo     \u001b[0m] \u001b[1mbatch ingest runbooks         \u001b[0m \u001b[36mbatch_size\u001b[0m=\u001b[35m97\u001b[0m\n"
     ]
    }
   ],
   "source": [
    "runbook_table = get_runbooks_table()\n",
    "runbook_table.delete(\"1 = 1\")\n",
    "\n",
    "ingestion = DocumentIngestion(\n",
    "    metadata=Metadata(\n",
    "        name=\"k8s-concepts\",\n",
    "        description=\"Kubernetes Concepts\",\n",
    "    ),\n",
    "    spec=DocumentIngestionSpec(local_path=\"./website/content/en/docs/concepts/workloads/pods/*.md\"),\n",
    ")\n",
    "\n",
    "ingester = DocumentIngester()\n",
    "\n",
    "ingester.document_ingestion(ingestion)\n"
   ]
  },
  {
   "cell_type": "code",
   "execution_count": 7,
   "metadata": {},
   "outputs": [
    {
     "data": {
      "text/plain": [
       "RunbookChunk(uuid='109e520d-5bc7-4bb5-9ea0-9bca5e39e52c', heading='', content='---\\nreviewers:\\n- verb\\n- yujuhong\\ntitle: Ephemeral Containers\\ncontent_type: concept\\nweight: 60\\n---  \\n<!-- overview -->  \\n{{< feature-state state=\"stable\" for_k8s_version=\"v1.25\" >}}  \\nThis page provides an overview of ephemeral containers: a special type of container\\nthat runs temporarily in an existing {{< glossary_tooltip term_id=\"pod\" >}} to\\naccomplish user-initiated actions such as troubleshooting. You use ephemeral\\ncontainers to inspect services rather than to build applications.  \\n<!-- body -->')"
      ]
     },
     "execution_count": 7,
     "metadata": {},
     "output_type": "execute_result"
    }
   ],
   "source": [
    "class RunbookChunk(BaseModel):\n",
    "    uuid: str\n",
    "    heading: str\n",
    "    content: str\n",
    "\n",
    "runbook_table = get_runbooks_table()\n",
    "\n",
    "sample_runbooks = runbook_table.to_pandas()\n",
    "\n",
    "sample_chunks = [\n",
    "    RunbookChunk(\n",
    "        uuid=row[\"uuid\"],\n",
    "        heading=row[\"heading\"],\n",
    "        content=row[\"content\"],\n",
    "    )\n",
    "    for idx, row in sample_runbooks.iterrows()\n",
    "]\n",
    "\n",
    "sample_chunks[0]\n"
   ]
  },
  {
   "cell_type": "markdown",
   "metadata": {},
   "source": [
    "Let's generate some synthetic questions"
   ]
  },
  {
   "cell_type": "code",
   "execution_count": 8,
   "metadata": {},
   "outputs": [
    {
     "data": {
      "text/plain": [
       "[ChunkEval(question='What are ephemeral containers used for in Kubernetes?', answer='Ephemeral containers are used to run temporarily in an existing pod to accomplish user-initiated actions such as troubleshooting.', uuid='109e520d-5bc7-4bb5-9ea0-9bca5e39e52c', question_with_context='A user asked the following question:\\nQuestion: What are ephemeral containers used for in Kubernetes?\\nThis is about the following runbook:\\nRunbook Title: \\nRunbook Content: ---\\nreviewers:\\n- verb\\n- yujuhong\\ntitle: Ephemeral Containers\\ncontent_type: concept\\nweight: 60\\n---  \\n<!-- overview -->  \\n{{< feature-state state=\"stable\" for_k8s_version=\"v1.25\" >}}  \\nThis page provides an overview of ephemeral containers: a special type of container\\nthat runs temporarily in an existing {{< glossary_tooltip term_id=\"pod\" >}} to\\naccomplish user-initiated actions such as troubleshooting. You use ephemeral\\ncontainers to inspect services rather than to build applications.  \\n<!-- body -->\\n'),\n",
       " ChunkEval(question='Can I use ephemeral containers to build applications?', answer='No, ephemeral containers are used to inspect services rather than to build applications.', uuid='109e520d-5bc7-4bb5-9ea0-9bca5e39e52c', question_with_context='A user asked the following question:\\nQuestion: Can I use ephemeral containers to build applications?\\nThis is about the following runbook:\\nRunbook Title: \\nRunbook Content: ---\\nreviewers:\\n- verb\\n- yujuhong\\ntitle: Ephemeral Containers\\ncontent_type: concept\\nweight: 60\\n---  \\n<!-- overview -->  \\n{{< feature-state state=\"stable\" for_k8s_version=\"v1.25\" >}}  \\nThis page provides an overview of ephemeral containers: a special type of container\\nthat runs temporarily in an existing {{< glossary_tooltip term_id=\"pod\" >}} to\\naccomplish user-initiated actions such as troubleshooting. You use ephemeral\\ncontainers to inspect services rather than to build applications.  \\n<!-- body -->\\n'),\n",
       " ChunkEval(question='What is the Kubernetes version that supports ephemeral containers?', answer='Ephemeral containers are stable starting from Kubernetes version v1.25.', uuid='109e520d-5bc7-4bb5-9ea0-9bca5e39e52c', question_with_context='A user asked the following question:\\nQuestion: What is the Kubernetes version that supports ephemeral containers?\\nThis is about the following runbook:\\nRunbook Title: \\nRunbook Content: ---\\nreviewers:\\n- verb\\n- yujuhong\\ntitle: Ephemeral Containers\\ncontent_type: concept\\nweight: 60\\n---  \\n<!-- overview -->  \\n{{< feature-state state=\"stable\" for_k8s_version=\"v1.25\" >}}  \\nThis page provides an overview of ephemeral containers: a special type of container\\nthat runs temporarily in an existing {{< glossary_tooltip term_id=\"pod\" >}} to\\naccomplish user-initiated actions such as troubleshooting. You use ephemeral\\ncontainers to inspect services rather than to build applications.  \\n<!-- body -->\\n')]"
      ]
     },
     "execution_count": 8,
     "metadata": {},
     "output_type": "execute_result"
    }
   ],
   "source": [
    "from typing import List\n",
    "import instructor\n",
    "from openai import AsyncOpenAI\n",
    "from pydantic import BaseModel\n",
    "\n",
    "client = instructor.from_openai(AsyncOpenAI())\n",
    "\n",
    "\n",
    "example_questions = [\n",
    "    \"How to create a pod?\",\n",
    "    \"How to scale a deployment from 1 replica to 3 replicas?\",\n",
    "]\n",
    "\n",
    "class QuestionAnswer(BaseModel):\n",
    "    question: str\n",
    "    answer: str\n",
    "\n",
    "class ChunkEval(QuestionAnswer):\n",
    "    uuid: str\n",
    "    question_with_context: str\n",
    "\n",
    "async def generate_evals(runbook: RunbookChunk, n_questions: int, example_questions: List[str]) -> List[ChunkEval]:\n",
    "    prompt = f\"\"\"\n",
    "Generate `{n_questions}` question-answer pairs about {runbook.heading}. The answer should primarily derived from the information in the runbook content.\n",
    "\n",
    "<content>\n",
    "{runbook.content}\n",
    "</content>\n",
    "\n",
    "Example questions:\n",
    "{\"\\n\".join('f - {q}' for q in example_questions)}\n",
    "\n",
    "Provide a concise and specific answer for each question.\n",
    "Do not use the exact example questions. Use them only as inspiration for the types of more specific questions to generate.\n",
    "Do not include answers that are not in the content.\n",
    "Questions should ask about how to do certain things and the answer should refer to how to do certain things based on the technical knowledge in the runbook.\n",
    "Stylistically, the questions should resemble what people would ask a RAG-based answer bot on a technical documentation website. So they can be a little informal, messy or scattered.\n",
    "\"\"\"\n",
    "\n",
    "\n",
    "    def make_context(question: str) -> str:\n",
    "        return f\"\"\"A user asked the following question:\n",
    "Question: {question}\n",
    "This is about the following runbook:\n",
    "Runbook Title: {runbook.heading}\n",
    "Runbook Content: {runbook.content}\n",
    "\"\"\"\n",
    "\n",
    "    try:\n",
    "        pairs = client.chat.completions.create_iterable(\n",
    "            model=\"gpt-4o-mini\",\n",
    "            response_model=QuestionAnswer,\n",
    "            messages=[{\"role\": \"user\", \"content\": prompt}],\n",
    "            temperature=0.0,\n",
    "        )\n",
    "\n",
    "        return [\n",
    "            ChunkEval(\n",
    "                uuid=runbook.uuid,\n",
    "                heading=runbook.heading,\n",
    "                question=pair.question,\n",
    "                answer=pair.answer,\n",
    "                question_with_context=make_context(pair.question),\n",
    "            )\n",
    "            async for pair in pairs\n",
    "        ]\n",
    "    except Exception as e:\n",
    "        print(f\"Error generating evals: {str(e)}\")\n",
    "        return []\n",
    "\n",
    "first_chunk_res = await generate_evals(sample_chunks[0], 3, example_questions)\n",
    "first_chunk_res\n"
   ]
  },
  {
   "cell_type": "code",
   "execution_count": 9,
   "metadata": {},
   "outputs": [
    {
     "data": {
      "text/plain": [
       "[ChunkEval(question='What are ephemeral containers used for in Kubernetes?', answer='Ephemeral containers are used to run temporarily in an existing pod to accomplish user-initiated actions such as troubleshooting.', uuid='109e520d-5bc7-4bb5-9ea0-9bca5e39e52c', question_with_context='A user asked the following question:\\nQuestion: What are ephemeral containers used for in Kubernetes?\\nThis is about the following runbook:\\nRunbook Title: \\nRunbook Content: ---\\nreviewers:\\n- verb\\n- yujuhong\\ntitle: Ephemeral Containers\\ncontent_type: concept\\nweight: 60\\n---  \\n<!-- overview -->  \\n{{< feature-state state=\"stable\" for_k8s_version=\"v1.25\" >}}  \\nThis page provides an overview of ephemeral containers: a special type of container\\nthat runs temporarily in an existing {{< glossary_tooltip term_id=\"pod\" >}} to\\naccomplish user-initiated actions such as troubleshooting. You use ephemeral\\ncontainers to inspect services rather than to build applications.  \\n<!-- body -->\\n'),\n",
       " ChunkEval(question='Can I use ephemeral containers to build applications?', answer='No, ephemeral containers are used to inspect services rather than to build applications.', uuid='109e520d-5bc7-4bb5-9ea0-9bca5e39e52c', question_with_context='A user asked the following question:\\nQuestion: Can I use ephemeral containers to build applications?\\nThis is about the following runbook:\\nRunbook Title: \\nRunbook Content: ---\\nreviewers:\\n- verb\\n- yujuhong\\ntitle: Ephemeral Containers\\ncontent_type: concept\\nweight: 60\\n---  \\n<!-- overview -->  \\n{{< feature-state state=\"stable\" for_k8s_version=\"v1.25\" >}}  \\nThis page provides an overview of ephemeral containers: a special type of container\\nthat runs temporarily in an existing {{< glossary_tooltip term_id=\"pod\" >}} to\\naccomplish user-initiated actions such as troubleshooting. You use ephemeral\\ncontainers to inspect services rather than to build applications.  \\n<!-- body -->\\n'),\n",
       " ChunkEval(question='What is the Kubernetes version that supports ephemeral containers?', answer='Ephemeral containers are stable starting from Kubernetes version v1.25.', uuid='109e520d-5bc7-4bb5-9ea0-9bca5e39e52c', question_with_context='A user asked the following question:\\nQuestion: What is the Kubernetes version that supports ephemeral containers?\\nThis is about the following runbook:\\nRunbook Title: \\nRunbook Content: ---\\nreviewers:\\n- verb\\n- yujuhong\\ntitle: Ephemeral Containers\\ncontent_type: concept\\nweight: 60\\n---  \\n<!-- overview -->  \\n{{< feature-state state=\"stable\" for_k8s_version=\"v1.25\" >}}  \\nThis page provides an overview of ephemeral containers: a special type of container\\nthat runs temporarily in an existing {{< glossary_tooltip term_id=\"pod\" >}} to\\naccomplish user-initiated actions such as troubleshooting. You use ephemeral\\ncontainers to inspect services rather than to build applications.  \\n<!-- body -->\\n')]"
      ]
     },
     "execution_count": 9,
     "metadata": {},
     "output_type": "execute_result"
    }
   ],
   "source": [
    "import asyncio\n",
    "\n",
    "class ChunkProcessingError(Exception):\n",
    "    pass\n",
    "\n",
    "async def process_chunk(chunk: RunbookChunk, n_questions: int, example_questions: List[str], semaphore: asyncio.Semaphore) -> List[ChunkEval]:\n",
    "    async with semaphore:\n",
    "        try:\n",
    "            return await generate_evals(chunk, n_questions, example_questions)\n",
    "        except Exception as e:\n",
    "            raise ChunkProcessingError(f\"Error processing chunk {chunk.id}: {str(e)}\") from e\n",
    "\n",
    "\n",
    "await process_chunk(sample_chunks[0], 3, example_questions, asyncio.Semaphore(1))\n"
   ]
  },
  {
   "cell_type": "markdown",
   "metadata": {},
   "source": [
    "Now let's call `process_chunk` with all chunks to build the full dataset"
   ]
  },
  {
   "cell_type": "code",
   "execution_count": 10,
   "metadata": {},
   "outputs": [],
   "source": [
    "import json\n",
    "import structlog\n",
    "import random\n",
    "\n",
    "logger = structlog.get_logger()\n",
    "\n",
    "async def create_synthetic_dataset(\n",
    "    chunks: List[RunbookChunk],\n",
    "    n_questions: int,\n",
    "    example_questions: List[str],\n",
    "    max_workers: int = 10,\n",
    ") -> List[ChunkEval]:\n",
    "    semaphore = asyncio.Semaphore(max_workers)\n",
    "    tasks = [process_chunk(chunk, n_questions, example_questions, semaphore) for chunk in chunks]\n",
    "    results = await asyncio.gather(*tasks, return_exceptions=True)\n",
    "\n",
    "    dataset = []\n",
    "    for result in results:\n",
    "        if isinstance(result, ChunkProcessingError):\n",
    "            print(f\"Error processing chunk: {result}\")\n",
    "        elif isinstance(result, list):\n",
    "            dataset.extend(result)\n",
    "        else:\n",
    "            print(f\"Unknown result type: {type(result)}\")\n",
    "    return dataset\n",
    "\n",
    "def save_eval_data(dataset: List[ChunkEval], filename: str):\n",
    "    with open(filename, \"w\") as f:\n",
    "        json.dump([e.model_dump() for e in dataset], f, indent=2)\n",
    "\n",
    "def save_tf_data(dataset: List[ChunkEval], filename: str):\n",
    "    df = runbook_table.to_pandas()\n",
    "    with open(filename, \"w\") as f:\n",
    "        for chunk_eval in dataset:\n",
    "            content = chunk_eval.question\n",
    "            f.write(json.dumps({\n",
    "                \"query\": chunk_eval.question_with_context,\n",
    "                \"relevant_passages\": [content]\n",
    "            }) + \"\\n\")\n",
    "\n",
    "synthetic_dataset = await create_synthetic_dataset(sample_chunks, 3, example_questions)\n",
    "random.shuffle(synthetic_dataset)\n"
   ]
  },
  {
   "cell_type": "code",
   "execution_count": 11,
   "metadata": {},
   "outputs": [
    {
     "name": "stdout",
     "output_type": "stream",
     "text": [
      "291 145 146\n",
      "\u001b[2m2024-11-15 15:04:25\u001b[0m [\u001b[32m\u001b[1minfo     \u001b[0m] \u001b[1mSynthetic eval dataset saved  \u001b[0m \u001b[36mdataset_len\u001b[0m=\u001b[35m291\u001b[0m \u001b[36meval_len\u001b[0m=\u001b[35m145\u001b[0m \u001b[36mft_len\u001b[0m=\u001b[35m146\u001b[0m\n"
     ]
    }
   ],
   "source": [
    "split_idx = len(synthetic_dataset) // 2\n",
    "eval_dataset = synthetic_dataset[:split_idx]\n",
    "ft_dataset = synthetic_dataset[split_idx:]\n",
    "\n",
    "print(len(synthetic_dataset), len(eval_dataset), len(ft_dataset))\n",
    "save_eval_data(eval_dataset, \"synthetic_eval_dataset.json\")\n",
    "save_tf_data(ft_dataset, \"synthetic_ft_dataset.jsonl\")\n",
    "\n",
    "logger.info(\"Synthetic eval dataset saved\",\n",
    "    dataset_len=len(synthetic_dataset),\n",
    "    eval_len=len(eval_dataset),\n",
    "    ft_len=len(ft_dataset),\n",
    ")\n"
   ]
  },
  {
   "cell_type": "code",
   "execution_count": 33,
   "metadata": {},
   "outputs": [
    {
     "data": {
      "text/plain": [
       "[ChunkEval(question='Can I delay the scheduling of a Pod, and if so, how?', answer='Yes, you can use Pod Scheduling Readiness to delay scheduling for a Pod until all its scheduling gates are removed.', uuid='e655dc1b-3e0a-48ef-a6d3-0cebf97f6b18', question_with_context=\"A user asked the following question:\\nQuestion: Can I delay the scheduling of a Pod, and if so, how?\\nThis is about the following runbook:\\nRunbook Title: Pod lifetime\\nRunbook Content: Pod lifetimeWhilst a Pod is running, the kubelet is able to restart containers to handle some\\nkind of faults. Within a Pod, Kubernetes tracks different container\\n[states](#container-states) and determines what action to take to make the Pod\\nhealthy again.  \\nIn the Kubernetes API, Pods have both a specification and an actual status. The\\nstatus for a Pod object consists of a set of [Pod conditions](#pod-conditions).\\nYou can also inject [custom readiness information](#pod-readiness-gate) into the\\ncondition data for a Pod, if that is useful to your application.  \\nPods are only [scheduled](/docs/concepts/scheduling-eviction/) once in their lifetime;\\nassigning a Pod to a specific node is called _binding_, and the process of selecting\\nwhich node to use is called _scheduling_.\\nOnce a Pod has been scheduled and is bound to a node, Kubernetes tries\\nto run that Pod on the node. The Pod runs on that node until it stops, or until the Pod\\nis [terminated](#pod-termination); if Kubernetes isn't able to start the Pod on the selected\\nnode (for example, if the node crashes before the Pod starts), then that particular Pod\\nnever starts.  \\nYou can use [Pod Scheduling Readiness](/docs/concepts/scheduling-eviction/pod-scheduling-readiness/)\\nto delay scheduling for a Pod until all its _scheduling gates_ are removed. For example,\\nyou might want to define a set of Pods but only trigger scheduling once all the Pods\\nhave been created.\\n\"),\n",
       " ChunkEval(question='What are the key differences in resource handling between init containers and regular containers?', answer='The resource requests and limits for an init container are handled differently compared to regular containers.', uuid='9d40f6d7-c7a5-4e19-9f65-da71863a4bfd', question_with_context=\"A user asked the following question:\\nQuestion: What are the key differences in resource handling between init containers and regular containers?\\nThis is about the following runbook:\\nRunbook Title: Differences from regular containers\\nRunbook Content: Understanding init containersDifferences from regular containersInit containers support all the fields and features of app containers,\\nincluding resource limits, [volumes](/docs/concepts/storage/volumes/), and security settings. However, the\\nresource requests and limits for an init container are handled differently,\\nas documented in [Resource sharing within containers](#resource-sharing-within-containers).  \\nRegular init containers (in other words: excluding sidecar containers) do not support the\\n`lifecycle`, `livenessProbe`, `readinessProbe`, or `startupProbe` fields. Init containers\\nmust run to completion before the Pod can be ready; sidecar containers continue running\\nduring a Pod's lifetime, and _do_ support some probes. See [sidecar container](/docs/concepts/workloads/pods/sidecar-containers/)\\nfor further details about sidecar containers.  \\nIf you specify multiple init containers for a Pod, kubelet runs each init\\ncontainer sequentially. Each init container must succeed before the next can run.\\nWhen all of the init containers have run to completion, kubelet initializes\\nthe application containers for the Pod and runs them as usual.\\n\"),\n",
       " ChunkEval(question='What happens to Burstable Pods during Node resource pressure?', answer='Burstable Pods are evicted only after all BestEffort Pods are evicted in the event of Node resource pressure.', uuid='a0d3b227-9feb-4c48-ad9f-e26f5d033bdf', question_with_context='A user asked the following question:\\nQuestion: What happens to Burstable Pods during Node resource pressure?\\nThis is about the following runbook:\\nRunbook Title: Burstable\\nRunbook Content: Quality of Service classesBurstablePods that are `Burstable` have some lower-bound resource guarantees based on the request, but\\ndo not require a specific limit. If a limit is not specified, it defaults to a\\nlimit equivalent to the capacity of the Node, which allows the Pods to flexibly increase\\ntheir resources if resources are available. In the event of Pod eviction due to Node\\nresource pressure, these Pods are evicted only after all `BestEffort` Pods are evicted.\\nBecause a `Burstable` Pod can include a Container that has no resource limits or requests, a Pod\\nthat is `Burstable` can try to use any amount of node resources.  \\n#### Criteria  \\nA Pod is given a QoS class of `Burstable` if:  \\n* The Pod does not meet the criteria for QoS class `Guaranteed`.\\n* At least one Container in the Pod has a memory or CPU request or limit.\\n'),\n",
       " ChunkEval(question='What should I do if I need to debug init containers?', answer='To debug init containers, refer to the documentation on debugging applications specifically for init containers.', uuid='5168c12f-4d89-4f7b-b559-9db44f2c7967', question_with_context='A user asked the following question:\\nQuestion: What should I do if I need to debug init containers?\\nThis is about the following runbook:\\nRunbook Title: {{% heading \"whatsnext\" %}}\\nRunbook Content: {{% heading \"whatsnext\" %}}Learn more about the following:\\n* [Creating a Pod that has an init container](/docs/tasks/configure-pod-container/configure-pod-initialization/#create-a-pod-that-has-an-init-container).\\n* [Debug init containers](/docs/tasks/debug/debug-application/debug-init-containers/).\\n* Overview of [kubelet](/docs/reference/command-line-tools-reference/kubelet/) and [kubectl](/docs/reference/kubectl/).\\n* [Types of probes](/docs/concepts/workloads/pods/pod-lifecycle/#types-of-probe): liveness, readiness, startup probe.\\n* [Sidecar containers](/docs/concepts/workloads/pods/sidecar-containers).\\n'),\n",
       " ChunkEval(question='What are the benefits of using init containers for app deployment?', answer='Init containers allow the application image builder and deployer roles to work independently, enabling a more streamlined deployment process without the need to jointly build a single app image.', uuid='3efd3414-5f84-4013-8366-37aee1a85283', question_with_context='A user asked the following question:\\nQuestion: What are the benefits of using init containers for app deployment?\\nThis is about the following runbook:\\nRunbook Title: Using init containers\\nRunbook Content: Using init containersBecause init containers have separate images from app containers, they\\nhave some advantages for start-up related code:  \\n* Init containers can contain utilities or custom code for setup that are not present in an app\\nimage. For example, there is no need to make an image `FROM` another image just to use a tool like\\n`sed`, `awk`, `python`, or `dig` during setup.\\n* The application image builder and deployer roles can work independently without\\nthe need to jointly build a single app image.\\n* Init containers can run with a different view of the filesystem than app containers in the\\nsame Pod. Consequently, they can be given access to\\n{{< glossary_tooltip text=\"Secrets\" term_id=\"secret\" >}} that app containers cannot access.\\n* Because init containers run to completion before any app containers start, init containers offer\\na mechanism to block or delay app container startup until a set of preconditions are met. Once\\npreconditions are met, all of the app containers in a Pod can start in parallel.\\n* Init containers can securely run utilities or custom code that would otherwise make an app\\ncontainer image less secure. By keeping unnecessary tools separate you can limit the attack\\nsurface of your app container image.\\n'),\n",
       " ChunkEval(question='What is the role of Pods in resource sharing?', answer='Pods enable data sharing and communication among their constituent containers.', uuid='034e1ee4-4bf2-4002-97c8-ceb3fd58791f', question_with_context='A user asked the following question:\\nQuestion: What is the role of Pods in resource sharing?\\nThis is about the following runbook:\\nRunbook Title: Resource sharing and communication\\nRunbook Content: Resource sharing and communicationPods enable data sharing and communication among their constituent\\ncontainers.\\n'),\n",
       " ChunkEval(question='How can a cluster administrator initiate a voluntary disruption?', answer='A cluster administrator can initiate a voluntary disruption by draining a node for repair or upgrade, scaling down the cluster, or removing a pod from a node to allow something else to fit.', uuid='93e0d3da-a86c-4327-8554-9b7bf8ebc4ab', question_with_context=\"A user asked the following question:\\nQuestion: How can a cluster administrator initiate a voluntary disruption?\\nThis is about the following runbook:\\nRunbook Title: Voluntary and involuntary disruptions\\nRunbook Content: Voluntary and involuntary disruptionsPods do not disappear until someone (a person or a controller) destroys them, or\\nthere is an unavoidable hardware or system software error.  \\nWe call these unavoidable cases *involuntary disruptions* to\\nan application.  Examples are:  \\n- a hardware failure of the physical machine backing the node\\n- cluster administrator deletes VM (instance) by mistake\\n- cloud provider or hypervisor failure makes VM disappear\\n- a kernel panic\\n- the node disappears from the cluster due to cluster network partition\\n- eviction of a pod due to the node being [out-of-resources](/docs/concepts/scheduling-eviction/node-pressure-eviction/).  \\nExcept for the out-of-resources condition, all these conditions\\nshould be familiar to most users; they are not specific\\nto Kubernetes.  \\nWe call other cases *voluntary disruptions*.  These include both\\nactions initiated by the application owner and those initiated by a Cluster\\nAdministrator.  Typical application owner actions include:  \\n- deleting the deployment or other controller that manages the pod\\n- updating a deployment's pod template causing a restart\\n- directly deleting a pod (e.g. by accident)  \\nCluster administrator actions include:  \\n- [Draining a node](/docs/tasks/administer-cluster/safely-drain-node/) for repair or upgrade.\\n- Draining a node from a cluster to scale the cluster down (learn about\\n[Cluster Autoscaling](https://github.com/kubernetes/autoscaler/#readme)).\\n- Removing a pod from a node to permit something else to fit on that node.  \\nThese actions might be taken directly by the cluster administrator, or by automation\\nrun by the cluster administrator, or by your cluster hosting provider.  \\nAsk your cluster administrator or consult your cloud provider or distribution documentation\\nto determine if any sources of voluntary disruptions are enabled for your cluster.\\nIf none are enabled, you can skip creating Pod Disruption Budgets.  \\n{{< caution >}}\\nNot all voluntary disruptions are constrained by Pod Disruption Budgets. For example,\\ndeleting deployments or pods bypasses Pod Disruption Budgets.\\n{{< /caution >}}\\n\"),\n",
       " ChunkEval(question='Can I set a restart policy for sidecar containers in a Pod?', answer=\"Yes, if your cluster has the SidecarContainers feature gate enabled, you can specify a restartPolicy for containers listed in a Pod's initContainers field.\", uuid='6226656d-dda3-46df-9b6b-bce04f730f22', question_with_context=\"A user asked the following question:\\nQuestion: Can I set a restart policy for sidecar containers in a Pod?\\nThis is about the following runbook:\\nRunbook Title: Sidecar containers in Kubernetes {#pod-sidecar-containers}\\nRunbook Content: Sidecar containers in Kubernetes {#pod-sidecar-containers}Kubernetes implements sidecar containers as a special case of\\n[init containers](/docs/concepts/workloads/pods/init-containers/); sidecar containers remain\\nrunning after Pod startup. This document uses the term _regular init containers_ to clearly\\nrefer to containers that only run during Pod startup.  \\nProvided that your cluster has the `SidecarContainers`\\n[feature gate](/docs/reference/command-line-tools-reference/feature-gates/) enabled\\n(the feature is active by default since Kubernetes v1.29), you can specify a `restartPolicy`\\nfor containers listed in a Pod's `initContainers` field.\\nThese restartable _sidecar_ containers are independent from other init containers and from\\nthe main application container(s) within the same pod.\\nThese can be started, stopped, or restarted without effecting the main application container\\nand other init containers.  \\nYou can also run a Pod with multiple containers that are not marked as init or sidecar\\ncontainers. This is appropriate if the containers within the Pod are required for the\\nPod to work overall, but you don't need to control which containers start or stop first.\\nYou could also do this if you need to support older versions of Kubernetes that don't\\nsupport a container-level `restartPolicy` field.\\n\"),\n",
       " ChunkEval(question='What Kubernetes version do I need to use user namespaces?', answer='User namespaces require a minimum Kubernetes server version of v1.25.', uuid='50ab24d3-a5b0-4ef0-8b4d-f4abec2b19ce', question_with_context='A user asked the following question:\\nQuestion: What Kubernetes version do I need to use user namespaces?\\nThis is about the following runbook:\\nRunbook Title: \\nRunbook Content: ---\\ntitle: User Namespaces\\nreviewers:\\ncontent_type: concept\\nweight: 160\\nmin-kubernetes-server-version: v1.25\\n---  \\n<!-- overview -->\\n{{< feature-state for_k8s_version=\"v1.30\" state=\"beta\" >}}  \\nThis page explains how user namespaces are used in Kubernetes pods. A user\\nnamespace isolates the user running inside the container from the one\\nin the host.  \\nA process running as root in a container can run as a different (non-root) user\\nin the host; in other words, the process has full privileges for operations\\ninside the user namespace, but is unprivileged for operations outside the\\nnamespace.  \\nYou can use this feature to reduce the damage a compromised container can do to\\nthe host or other pods in the same node. There are [several security\\nvulnerabilities][KEP-vulns] rated either **HIGH** or **CRITICAL** that were not\\nexploitable when user namespaces is active. It is expected user namespace will\\nmitigate some future vulnerabilities too.  \\n[KEP-vulns]: https://github.com/kubernetes/enhancements/tree/217d790720c5aef09b8bd4d6ca96284a0affe6c2/keps/sig-node/127-user-namespaces#motivation  \\n<!-- body -->\\n'),\n",
       " ChunkEval(question='How can I use init containers to run setup utilities without bloating my app image?', answer='Init containers can contain utilities or custom code for setup that are not present in an app image, allowing you to use tools like `sed`, `awk`, `python`, or `dig` during setup without needing to include them in the app image.', uuid='3efd3414-5f84-4013-8366-37aee1a85283', question_with_context='A user asked the following question:\\nQuestion: How can I use init containers to run setup utilities without bloating my app image?\\nThis is about the following runbook:\\nRunbook Title: Using init containers\\nRunbook Content: Using init containersBecause init containers have separate images from app containers, they\\nhave some advantages for start-up related code:  \\n* Init containers can contain utilities or custom code for setup that are not present in an app\\nimage. For example, there is no need to make an image `FROM` another image just to use a tool like\\n`sed`, `awk`, `python`, or `dig` during setup.\\n* The application image builder and deployer roles can work independently without\\nthe need to jointly build a single app image.\\n* Init containers can run with a different view of the filesystem than app containers in the\\nsame Pod. Consequently, they can be given access to\\n{{< glossary_tooltip text=\"Secrets\" term_id=\"secret\" >}} that app containers cannot access.\\n* Because init containers run to completion before any app containers start, init containers offer\\na mechanism to block or delay app container startup until a set of preconditions are met. Once\\npreconditions are met, all of the app containers in a Pod can start in parallel.\\n* Init containers can securely run utilities or custom code that would otherwise make an app\\ncontainer image less secure. By keeping unnecessary tools separate you can limit the attack\\nsurface of your app container image.\\n')]"
      ]
     },
     "execution_count": 33,
     "metadata": {},
     "output_type": "execute_result"
    }
   ],
   "source": [
    "with open(\"synthetic_eval_dataset.json\", \"r\") as f:\n",
    "    eval_dataset = json.load(f)\n",
    "\n",
    "eval_dataset_sample = eval_dataset[:10]\n",
    "\n",
    "eval_questions = [ChunkEval(**e) for e in eval_dataset_sample]\n",
    "\n",
    "eval_questions\n"
   ]
  },
  {
   "cell_type": "code",
   "execution_count": 34,
   "metadata": {},
   "outputs": [],
   "source": [
    "def run_simple_request(q: ChunkEval, n_return_vals=5):\n",
    "    results = (\n",
    "        runbook_table.search(q.question_with_context).select([\"uuid\"]).limit(n_return_vals).to_list()\n",
    "    )\n",
    "    return [str(q.uuid) == str(r[\"uuid\"]) for r in results]\n"
   ]
  },
  {
   "cell_type": "code",
   "execution_count": 35,
   "metadata": {},
   "outputs": [],
   "source": [
    "def score(hits):\n",
    "    n_retrieval_requests = len(hits)\n",
    "    total_retrievals = sum(len(l) for l in hits)\n",
    "    true_positives = sum(sum(sublist) for sublist in hits)\n",
    "\n",
    "    logger.info(\"Score\", n_retrieval_requests=n_retrieval_requests, total_retrievals=total_retrievals, true_positives=true_positives)\n",
    "    precision = true_positives / total_retrievals if total_retrievals > 0 else 0\n",
    "    recall = true_positives / n_retrieval_requests if n_retrieval_requests > 0 else 0\n",
    "    return {\"precision\": precision, \"recall\": recall}\n"
   ]
  },
  {
   "cell_type": "code",
   "execution_count": 37,
   "metadata": {},
   "outputs": [
    {
     "name": "stdout",
     "output_type": "stream",
     "text": [
      "\u001b[2m2024-11-15 15:26:47\u001b[0m [\u001b[32m\u001b[1minfo     \u001b[0m] \u001b[1mScore                         \u001b[0m \u001b[36mn_retrieval_requests\u001b[0m=\u001b[35m10\u001b[0m \u001b[36mtotal_retrievals\u001b[0m=\u001b[35m50\u001b[0m \u001b[36mtrue_positives\u001b[0m=\u001b[35m10\u001b[0m\n",
      "\u001b[2m2024-11-15 15:26:47\u001b[0m [\u001b[32m\u001b[1minfo     \u001b[0m] \u001b[1mScore                         \u001b[0m \u001b[36mn_retrieval_requests\u001b[0m=\u001b[35m10\u001b[0m \u001b[36mtotal_retrievals\u001b[0m=\u001b[35m100\u001b[0m \u001b[36mtrue_positives\u001b[0m=\u001b[35m10\u001b[0m\n",
      "\u001b[2m2024-11-15 15:26:48\u001b[0m [\u001b[32m\u001b[1minfo     \u001b[0m] \u001b[1mScore                         \u001b[0m \u001b[36mn_retrieval_requests\u001b[0m=\u001b[35m10\u001b[0m \u001b[36mtotal_retrievals\u001b[0m=\u001b[35m200\u001b[0m \u001b[36mtrue_positives\u001b[0m=\u001b[35m10\u001b[0m\n",
      "\u001b[2m2024-11-15 15:26:51\u001b[0m [\u001b[32m\u001b[1minfo     \u001b[0m] \u001b[1mScore                         \u001b[0m \u001b[36mn_retrieval_requests\u001b[0m=\u001b[35m10\u001b[0m \u001b[36mtotal_retrievals\u001b[0m=\u001b[35m970\u001b[0m \u001b[36mtrue_positives\u001b[0m=\u001b[35m10\u001b[0m\n"
     ]
    },
    {
     "data": {
      "text/html": [
       "<div>\n",
       "<style scoped>\n",
       "    .dataframe tbody tr th:only-of-type {\n",
       "        vertical-align: middle;\n",
       "    }\n",
       "\n",
       "    .dataframe tbody tr th {\n",
       "        vertical-align: top;\n",
       "    }\n",
       "\n",
       "    .dataframe thead th {\n",
       "        text-align: right;\n",
       "    }\n",
       "</style>\n",
       "<table border=\"1\" class=\"dataframe\">\n",
       "  <thead>\n",
       "    <tr style=\"text-align: right;\">\n",
       "      <th></th>\n",
       "      <th>precision</th>\n",
       "      <th>recall</th>\n",
       "      <th>n_retrieved</th>\n",
       "    </tr>\n",
       "  </thead>\n",
       "  <tbody>\n",
       "    <tr>\n",
       "      <th>0</th>\n",
       "      <td>0.200000</td>\n",
       "      <td>1.0</td>\n",
       "      <td>5</td>\n",
       "    </tr>\n",
       "    <tr>\n",
       "      <th>1</th>\n",
       "      <td>0.100000</td>\n",
       "      <td>1.0</td>\n",
       "      <td>10</td>\n",
       "    </tr>\n",
       "    <tr>\n",
       "      <th>2</th>\n",
       "      <td>0.050000</td>\n",
       "      <td>1.0</td>\n",
       "      <td>20</td>\n",
       "    </tr>\n",
       "    <tr>\n",
       "      <th>3</th>\n",
       "      <td>0.010309</td>\n",
       "      <td>1.0</td>\n",
       "      <td>100</td>\n",
       "    </tr>\n",
       "  </tbody>\n",
       "</table>\n",
       "</div>"
      ],
      "text/plain": [
       "   precision  recall  n_retrieved\n",
       "0   0.200000     1.0            5\n",
       "1   0.100000     1.0           10\n",
       "2   0.050000     1.0           20\n",
       "3   0.010309     1.0          100"
      ]
     },
     "execution_count": 37,
     "metadata": {},
     "output_type": "execute_result"
    }
   ],
   "source": [
    "from concurrent.futures import ThreadPoolExecutor\n",
    "from typing import List, Dict\n",
    "\n",
    "def score_simple_search(n_to_retrieve: int) -> Dict[str, float]:\n",
    "    # parallelize to speed this up 5-10X\n",
    "    with ThreadPoolExecutor() as executor:\n",
    "        hits = list(\n",
    "            executor.map(lambda q: run_simple_request(q, n_to_retrieve), eval_questions)\n",
    "        )\n",
    "    return score(hits)\n",
    "\n",
    "k_to_retrieve = [5, 10, 20, 100]\n",
    "scores = pd.DataFrame([score_simple_search(n) for n in k_to_retrieve])\n",
    "scores[\"n_retrieved\"] = k_to_retrieve\n",
    "scores"
   ]
  },
  {
   "cell_type": "code",
   "execution_count": null,
   "metadata": {},
   "outputs": [],
   "source": []
  }
 ],
 "metadata": {
  "kernelspec": {
   "display_name": ".venv",
   "language": "python",
   "name": "python3"
  },
  "language_info": {
   "codemirror_mode": {
    "name": "ipython",
    "version": 3
   },
   "file_extension": ".py",
   "mimetype": "text/x-python",
   "name": "python",
   "nbconvert_exporter": "python",
   "pygments_lexer": "ipython3",
   "version": "3.12.3"
  }
 },
 "nbformat": 4,
 "nbformat_minor": 2
}
