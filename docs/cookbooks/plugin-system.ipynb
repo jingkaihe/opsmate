{
 "cells": [
  {
   "cell_type": "markdown",
   "metadata": {},
   "source": [
    "Opsmate has a handful of [built-in](/cookbooks/automation-using-python-runtime/#built-in-tools) tools you can use out of the box, however there are always customisations and extensions you want to build for your own use cases.\n",
    "\n",
    "Opsmate comes with a plugin system to allow you to build your own tools and use them in your automation.\n",
    "\n",
    "In this cookbook, we will show you how to write and author your own plugins and use it in your automation.\n",
    "\n"
   ]
  },
  {
   "cell_type": "markdown",
   "metadata": {},
   "source": [
    "## Prerequisites\n",
    "\n",
    "* You have a OpenAI API key, otherwise Anthropic API key is also supported, as Opsmate is LLM provider agnostic.\n",
    "* You have Opsmate installed - see [getting started](/#getting-started) for more details.\n",
    "* You have [kind](https://kind.sigs.k8s.io/docs/user/quick-start/#installation) installed, as Opsmate uses kind to run local Kubernetes cluster.\n",
    "* You have [kubectl](https://kubernetes.io/docs/tasks/tools/#kubectl) installed for interacting with the local Kubernetes cluster."
   ]
  },
  {
   "cell_type": "markdown",
   "metadata": {},
   "source": [
    "## Setup\n",
    "\n",
    "First, let's install our required packages and set our API keys."
   ]
  },
  {
   "cell_type": "code",
   "execution_count": 1,
   "metadata": {},
   "outputs": [],
   "source": [
    "import getpass\n",
    "import os\n",
    "\n",
    "\n",
    "def _set_if_undefined(var: str) -> None:\n",
    "    if os.environ.get(var):\n",
    "        return\n",
    "    os.environ[var] = getpass.getpass(var)\n",
    "\n",
    "\n",
    "_set_if_undefined(\"OPENAI_API_KEY\") # Feel to comment this out and use Anthropic API key instead\n",
    "_set_if_undefined(\"ANTHROPIC_API_KEY\")\n"
   ]
  },
  {
   "cell_type": "markdown",
   "metadata": {},
   "source": [
    "Then we will spin up a local k8s cluster and install lightweight LGTM stack on it for testing."
   ]
  },
  {
   "cell_type": "code",
   "execution_count": 4,
   "metadata": {
    "vscode": {
     "languageId": "shellscript"
    }
   },
   "outputs": [
    {
     "name": "stdout",
     "output_type": "stream",
     "text": [
      "Creating cluster \"opsmate-plugin-test\" ...\n",
      " \u001b[32m✓\u001b[0m Ensuring node image (kindest/node:v1.31.2) 🖼\n",
      " \u001b[32m✓\u001b[0m Preparing nodes 📦 7l\u001b[?7l\u001b[?7l\u001b[?7l\u001b[?7l\u001b[?7l\u001b[?7l\u001b[?7l\u001b[?7l\u001b[?7l\u001b[?7l\u001b[?7l\u001b[?7l\u001b[?7l\u001b[?7l\u001b[?7l\u001b[?7l\u001b[?7l\u001b[?7l\u001b[?7l\u001b[?7l\u001b[?7l\n",
      " \u001b[32m✓\u001b[0m Writing configuration 📜7l\u001b[?7l\n",
      " \u001b[32m✓\u001b[0m Starting control-plane 🕹️7l\u001b[?7l\u001b[?7l\u001b[?7l\u001b[?7l\u001b[?7l\u001b[?7l\u001b[?7l\u001b[?7l\u001b[?7l\u001b[?7l\u001b[?7l\u001b[?7l\u001b[?7l\u001b[?7l\u001b[?7l\u001b[?7l\u001b[?7l\u001b[?7l\u001b[?7l\u001b[?7l\u001b[?7l\u001b[?7l\u001b[?7l\u001b[?7l\u001b[?7l\u001b[?7l\u001b[?7l\u001b[?7l\u001b[?7l\u001b[?7l\u001b[?7l\u001b[?7l\u001b[?7l\u001b[?7l\u001b[?7l\u001b[?7l\u001b[?7l\u001b[?7l\u001b[?7l\u001b[?7l\u001b[?7l\u001b[?7l\u001b[?7l\u001b[?7l\u001b[?7l\u001b[?7l\u001b[?7l\u001b[?7l\u001b[?7l\u001b[?7l\u001b[?7l\u001b[?7l\u001b[?7l\u001b[?7l\u001b[?7l\u001b[?7l\u001b[?7l\u001b[?7l\u001b[?7l\u001b[?7l\u001b[?7l\u001b[?7l\u001b[?7l\u001b[?7l\u001b[?7l\u001b[?7l\u001b[?7l\u001b[?7l\u001b[?7l\u001b[?7l\u001b[?7l\u001b[?7l\u001b[?7l\u001b[?7l\u001b[?7l\u001b[?7l\u001b[?7l\u001b[?7l\u001b[?7l\u001b[?7l\u001b[?7l\u001b[?7l\u001b[?7l\u001b[?7l\u001b[?7l\u001b[?7l\u001b[?7l\u001b[?7l\u001b[?7l\u001b[?7l\u001b[?7l\u001b[?7l\u001b[?7l\u001b[?7l\u001b[?7l\u001b[?7l\u001b[?7l\u001b[?7l\u001b[?7l\u001b[?7l\u001b[?7l\u001b[?7l\u001b[?7l\u001b[?7l\u001b[?7l\u001b[?7l\u001b[?7l\u001b[?7l\u001b[?7l\u001b[?7l\u001b[?7l\u001b[?7l\u001b[?7l\u001b[?7l\u001b[?7l\u001b[?7l\u001b[?7l\u001b[?7l\u001b[?7l\u001b[?7l\u001b[?7l\u001b[?7l\u001b[?7l\u001b[?7l\u001b[?7l\u001b[?7l\u001b[?7l\u001b[?7l\u001b[?7l\u001b[?7l\u001b[?7l\u001b[?7l\n",
      " \u001b[32m✓\u001b[0m Installing CNI 🔌7l\u001b[?7l\u001b[?7l\u001b[?7l\n",
      " \u001b[32m✓\u001b[0m Installing StorageClass 💾7l\u001b[?7l\u001b[?7l\u001b[?7l\u001b[?7l\n",
      "Set kubectl context to \"kind-opsmate-plugin-test\"\n",
      "You can now use your cluster with:\n",
      "\n",
      "kubectl cluster-info --context kind-opsmate-plugin-test\n",
      "\n",
      "Thanks for using kind! 😊\n"
     ]
    }
   ],
   "source": [
    "! kind create cluster --name opsmate-plugin-test"
   ]
  },
  {
   "cell_type": "code",
   "execution_count": 6,
   "metadata": {
    "vscode": {
     "languageId": "shellscript"
    }
   },
   "outputs": [
    {
     "name": "stdout",
     "output_type": "stream",
     "text": [
      "kind-opsmate-plugin-test\n"
     ]
    }
   ],
   "source": [
    "# make sure that you are running on the correct cluster\n",
    "! kubectl config current-context"
   ]
  },
  {
   "cell_type": "markdown",
   "metadata": {},
   "source": [
    "Now we will install the LGTM stack on the cluster."
   ]
  },
  {
   "cell_type": "code",
   "execution_count": 7,
   "metadata": {
    "vscode": {
     "languageId": "shellscript"
    }
   },
   "outputs": [
    {
     "name": "stdout",
     "output_type": "stream",
     "text": [
      "service/lgtm created\n",
      "deployment.apps/lgtm created\n"
     ]
    }
   ],
   "source": [
    "! kubectl apply -f https://raw.githubusercontent.com/grafana/docker-otel-lgtm/refs/heads/main/k8s/lgtm.yaml"
   ]
  },
  {
   "cell_type": "code",
   "execution_count": 8,
   "metadata": {
    "vscode": {
     "languageId": "shellscript"
    }
   },
   "outputs": [
    {
     "name": "stdout",
     "output_type": "stream",
     "text": [
      "deployment.apps/lgtm condition met\n"
     ]
    }
   ],
   "source": [
    "# make sure that the lgtm stack is running\n",
    "! kubectl wait --for=condition=available deployment/lgtm"
   ]
  },
  {
   "cell_type": "markdown",
   "metadata": {},
   "source": [
    "## Our first plugin"
   ]
  },
  {
   "cell_type": "markdown",
   "metadata": {
    "vscode": {
     "languageId": "shellscript"
    }
   },
   "source": [
    "The `./plugins/loki.py` file contains the plugin we wrote for this cookbook. The job it tries to accomplish is reasonably complex:\n",
    "\n",
    "* It extracts the datetime range from the user's query\n",
    "* It queries the loki API to get the logs within the datetime range\n",
    "* It returns the logs to a string and represent it as a markdown table\n",
    "\n"
   ]
  },
  {
   "cell_type": "code",
   "execution_count": 10,
   "metadata": {
    "vscode": {
     "languageId": "shellscript"
    }
   },
   "outputs": [
    {
     "name": "stdout",
     "output_type": "stream",
     "text": [
      "from opsmate.dino.types import ToolCall, PresentationMixin\n",
      "from pydantic import Field, PrivateAttr\n",
      "from typing import Literal, ClassVar, Optional\n",
      "from httpx import AsyncClient\n",
      "import os\n",
      "import base64\n",
      "from opsmate.dino import dino\n",
      "from opsmate.dino.types import Message\n",
      "from opsmate.tools.datetime import DatetimeRange, datetime_extraction\n",
      "from opsmate.plugins import auto_discover\n",
      "\n",
      "\n",
      "class LokiBase(ToolCall, PresentationMixin):\n",
      "    \"\"\"\n",
      "    A tool to query logs in loki\n",
      "    \"\"\"\n",
      "\n",
      "    user_id: ClassVar[str] = None\n",
      "    auth_token: ClassVar[str] = None\n",
      "\n",
      "    limit: int = Field(description=\"The number of results to return\", default=100)\n",
      "    direction: Literal[\"forward\", \"backward\"] = Field(\n",
      "        description=\"The direction of the search\", default=\"forward\"\n",
      "    )\n",
      "    output: Optional[str] = Field(\n",
      "        description=\"The output of the loki query - DO NOT USE THIS FIELD\",\n",
      "        default=None,\n",
      "    )\n",
      "\n",
      "    _client: AsyncClient = PrivateAttr(default_factory=AsyncClient)\n",
      "\n",
      "    def headers(self):\n",
      "        base_headers = {\n",
      "            \"Accept\": \"application/json\",\n",
      "            \"Content-Type\": \"application/json\",\n",
      "            \"User-Agent\": \"opsmate loki tool\",\n",
      "        }\n",
      "        user_id = self.user_id\n",
      "        if not user_id:\n",
      "            user_id = os.getenv(\"LOKI_USER_ID\")\n",
      "\n",
      "        if not user_id:\n",
      "            return base_headers\n",
      "\n",
      "        auth_token = self.auth_token\n",
      "        if not auth_token:\n",
      "            auth_token = os.getenv(\"LOKI_AUTH_TOKEN\")\n",
      "\n",
      "        if not auth_token:\n",
      "            raise ValueError(\"LOKI_AUTH_TOKEN is not set\")\n",
      "\n",
      "        basic_auth = base64.b64encode(f\"{user_id}:{auth_token}\".encode()).decode()\n",
      "        return {\n",
      "            **base_headers,\n",
      "            \"Authorization\": f\"Basic {basic_auth}\",\n",
      "        }\n",
      "\n",
      "    class Config:\n",
      "        underscore_attrs_are_private = True\n",
      "\n",
      "    def markdown(self): ...\n",
      "\n",
      "\n",
      "class LokiLogs(LokiBase, DatetimeRange):\n",
      "    \"\"\"\n",
      "    A tool to query logs in loki\n",
      "    \"\"\"\n",
      "\n",
      "    endpoint: ClassVar[str] = \"http://localhost:3100\"\n",
      "    path: ClassVar[str] = \"/api/v1/query_range\"\n",
      "    query: str = Field(description=\"The loki log query\")\n",
      "\n",
      "    async def __call__(self):\n",
      "        response = await self._client.get(\n",
      "            self.endpoint + self.path,\n",
      "            params={\n",
      "                \"query\": self.query,\n",
      "                \"start\": self.start,\n",
      "                \"end\": self.end,\n",
      "                \"limit\": self.limit,\n",
      "                \"direction\": self.direction,\n",
      "            },\n",
      "            headers=self.headers(),\n",
      "        )\n",
      "        return response.json()\n",
      "\n",
      "    def markdown(self): ...\n",
      "\n",
      "\n",
      "@auto_discover(\n",
      "    name=\"loki_logs\",\n",
      "    description=\"A tool to query logs in loki\",\n",
      "    version=\"0.0.1\",\n",
      "    author=\"Micky\",\n",
      ")\n",
      "@dino(\n",
      "    model=\"gpt-4o-mini\",\n",
      "    response_model=LokiLogs,\n",
      "    tools=[datetime_extraction],\n",
      ")\n",
      "async def loki_logs(query: str, extra_context: str = \"\"):\n",
      "    \"\"\"\n",
      "    You are a world class SRE who excels at querying logs in loki\n",
      "    You are given a query in natural language and you need to convert it into a valid loki query\n",
      "    <rules>\n",
      "    * Use app_kubernetes_io_name to filter by the application name\n",
      "    * Use namespace to filter by the namespace\n",
      "    * Use pod to filter by the pod name\n",
      "    * Use container to filter by the container name\n",
      "    </rules>\n",
      "    \"\"\"\n",
      "    return [\n",
      "        Message.user(content=extra_context),\n",
      "        Message.user(content=query),\n",
      "    ]\n"
     ]
    }
   ],
   "source": [
    "! cat ./plugins/loki.py"
   ]
  },
  {
   "cell_type": "markdown",
   "metadata": {
    "vscode": {
     "languageId": "shellscript"
    }
   },
   "source": [
    "## Discovering plugins\n",
    "\n",
    "In the plugin code if you have a keen eye you probably have already noticed the `@auto_discover` decorator. This is the key to discover the plugin.\n",
    "\n",
    "By default all the tools are discovered automatically, but for LLM functions you will need to explicitly mark it as discoverable via the `@auto_discover` decorator.\n",
    "\n",
    "To make the plugin discovered from where-ever your current python path is, you can execute the discovery via the following snippet:"
   ]
  },
  {
   "cell_type": "code",
   "execution_count": 17,
   "metadata": {},
   "outputs": [
    {
     "name": "stdout",
     "output_type": "stream",
     "text": [
      "\u001b[2m2025-01-14 17:11:36\u001b[0m [\u001b[32m\u001b[1mdebug    \u001b[0m] \u001b[1mloading builtin tools         \u001b[0m\n",
      "\u001b[2m2025-01-14 17:11:36\u001b[0m [\u001b[32m\u001b[1mdebug    \u001b[0m] \u001b[1mloading builtin tools from    \u001b[0m \u001b[36mbuiltin_module\u001b[0m=\u001b[35mopsmate.tools\u001b[0m\n",
      "\u001b[2m2025-01-14 17:11:36\u001b[0m [\u001b[32m\u001b[1mdebug    \u001b[0m] \u001b[1mloading dtool                 \u001b[0m \u001b[36mdtool\u001b[0m=\u001b[35mFileAppend\u001b[0m\n",
      "\u001b[2m2025-01-14 17:11:36\u001b[0m [\u001b[33m\u001b[1mwarning  \u001b[0m] \u001b[1mtool already exists           \u001b[0m \u001b[36mconflict_source\u001b[0m=\u001b[35m/home/jingkaihe/workspace/opsmate/opsmate/tools/__init__.py\u001b[0m \u001b[36mtool\u001b[0m=\u001b[35mFileAppend\u001b[0m\n",
      "\u001b[2m2025-01-14 17:11:36\u001b[0m [\u001b[32m\u001b[1mdebug    \u001b[0m] \u001b[1mloading dtool                 \u001b[0m \u001b[36mdtool\u001b[0m=\u001b[35mFileDelete\u001b[0m\n",
      "\u001b[2m2025-01-14 17:11:36\u001b[0m [\u001b[33m\u001b[1mwarning  \u001b[0m] \u001b[1mtool already exists           \u001b[0m \u001b[36mconflict_source\u001b[0m=\u001b[35m/home/jingkaihe/workspace/opsmate/opsmate/tools/__init__.py\u001b[0m \u001b[36mtool\u001b[0m=\u001b[35mFileDelete\u001b[0m\n",
      "\u001b[2m2025-01-14 17:11:36\u001b[0m [\u001b[32m\u001b[1mdebug    \u001b[0m] \u001b[1mloading dtool                 \u001b[0m \u001b[36mdtool\u001b[0m=\u001b[35mFileRead\u001b[0m\n",
      "\u001b[2m2025-01-14 17:11:36\u001b[0m [\u001b[33m\u001b[1mwarning  \u001b[0m] \u001b[1mtool already exists           \u001b[0m \u001b[36mconflict_source\u001b[0m=\u001b[35m/home/jingkaihe/workspace/opsmate/opsmate/tools/__init__.py\u001b[0m \u001b[36mtool\u001b[0m=\u001b[35mFileRead\u001b[0m\n",
      "\u001b[2m2025-01-14 17:11:36\u001b[0m [\u001b[32m\u001b[1mdebug    \u001b[0m] \u001b[1mloading dtool                 \u001b[0m \u001b[36mdtool\u001b[0m=\u001b[35mFileWrite\u001b[0m\n",
      "\u001b[2m2025-01-14 17:11:36\u001b[0m [\u001b[33m\u001b[1mwarning  \u001b[0m] \u001b[1mtool already exists           \u001b[0m \u001b[36mconflict_source\u001b[0m=\u001b[35m/home/jingkaihe/workspace/opsmate/opsmate/tools/__init__.py\u001b[0m \u001b[36mtool\u001b[0m=\u001b[35mFileWrite\u001b[0m\n",
      "\u001b[2m2025-01-14 17:11:36\u001b[0m [\u001b[32m\u001b[1mdebug    \u001b[0m] \u001b[1mloading dtool                 \u001b[0m \u001b[36mdtool\u001b[0m=\u001b[35mFilesFind\u001b[0m\n",
      "\u001b[2m2025-01-14 17:11:36\u001b[0m [\u001b[33m\u001b[1mwarning  \u001b[0m] \u001b[1mtool already exists           \u001b[0m \u001b[36mconflict_source\u001b[0m=\u001b[35m/home/jingkaihe/workspace/opsmate/opsmate/tools/__init__.py\u001b[0m \u001b[36mtool\u001b[0m=\u001b[35mFilesFind\u001b[0m\n",
      "\u001b[2m2025-01-14 17:11:36\u001b[0m [\u001b[32m\u001b[1mdebug    \u001b[0m] \u001b[1mloading dtool                 \u001b[0m \u001b[36mdtool\u001b[0m=\u001b[35mFilesList\u001b[0m\n",
      "\u001b[2m2025-01-14 17:11:36\u001b[0m [\u001b[33m\u001b[1mwarning  \u001b[0m] \u001b[1mtool already exists           \u001b[0m \u001b[36mconflict_source\u001b[0m=\u001b[35m/home/jingkaihe/workspace/opsmate/opsmate/tools/__init__.py\u001b[0m \u001b[36mtool\u001b[0m=\u001b[35mFilesList\u001b[0m\n",
      "\u001b[2m2025-01-14 17:11:36\u001b[0m [\u001b[32m\u001b[1mdebug    \u001b[0m] \u001b[1mloading dtool                 \u001b[0m \u001b[36mdtool\u001b[0m=\u001b[35mHttpCall\u001b[0m\n",
      "\u001b[2m2025-01-14 17:11:36\u001b[0m [\u001b[33m\u001b[1mwarning  \u001b[0m] \u001b[1mtool already exists           \u001b[0m \u001b[36mconflict_source\u001b[0m=\u001b[35m/home/jingkaihe/workspace/opsmate/opsmate/tools/__init__.py\u001b[0m \u001b[36mtool\u001b[0m=\u001b[35mHttpCall\u001b[0m\n",
      "\u001b[2m2025-01-14 17:11:36\u001b[0m [\u001b[32m\u001b[1mdebug    \u001b[0m] \u001b[1mloading dtool                 \u001b[0m \u001b[36mdtool\u001b[0m=\u001b[35mHttpGet\u001b[0m\n",
      "\u001b[2m2025-01-14 17:11:36\u001b[0m [\u001b[33m\u001b[1mwarning  \u001b[0m] \u001b[1mtool already exists           \u001b[0m \u001b[36mconflict_source\u001b[0m=\u001b[35m/home/jingkaihe/workspace/opsmate/opsmate/tools/__init__.py\u001b[0m \u001b[36mtool\u001b[0m=\u001b[35mHttpGet\u001b[0m\n",
      "\u001b[2m2025-01-14 17:11:36\u001b[0m [\u001b[32m\u001b[1mdebug    \u001b[0m] \u001b[1mloading dtool                 \u001b[0m \u001b[36mdtool\u001b[0m=\u001b[35mHttpToText\u001b[0m\n",
      "\u001b[2m2025-01-14 17:11:36\u001b[0m [\u001b[33m\u001b[1mwarning  \u001b[0m] \u001b[1mtool already exists           \u001b[0m \u001b[36mconflict_source\u001b[0m=\u001b[35m/home/jingkaihe/workspace/opsmate/opsmate/tools/__init__.py\u001b[0m \u001b[36mtool\u001b[0m=\u001b[35mHttpToText\u001b[0m\n",
      "\u001b[2m2025-01-14 17:11:36\u001b[0m [\u001b[32m\u001b[1mdebug    \u001b[0m] \u001b[1mloading dtool                 \u001b[0m \u001b[36mdtool\u001b[0m=\u001b[35mKnowledgeRetrieval\u001b[0m\n",
      "\u001b[2m2025-01-14 17:11:36\u001b[0m [\u001b[33m\u001b[1mwarning  \u001b[0m] \u001b[1mtool already exists           \u001b[0m \u001b[36mconflict_source\u001b[0m=\u001b[35m/home/jingkaihe/workspace/opsmate/opsmate/tools/__init__.py\u001b[0m \u001b[36mtool\u001b[0m=\u001b[35mKnowledgeRetrieval\u001b[0m\n",
      "\u001b[2m2025-01-14 17:11:36\u001b[0m [\u001b[32m\u001b[1mdebug    \u001b[0m] \u001b[1mloading dtool                 \u001b[0m \u001b[36mdtool\u001b[0m=\u001b[35mShellCommand\u001b[0m\n",
      "\u001b[2m2025-01-14 17:11:36\u001b[0m [\u001b[33m\u001b[1mwarning  \u001b[0m] \u001b[1mtool already exists           \u001b[0m \u001b[36mconflict_source\u001b[0m=\u001b[35m/home/jingkaihe/workspace/opsmate/opsmate/tools/__init__.py\u001b[0m \u001b[36mtool\u001b[0m=\u001b[35mShellCommand\u001b[0m\n",
      "\u001b[2m2025-01-14 17:11:36\u001b[0m [\u001b[32m\u001b[1mdebug    \u001b[0m] \u001b[1mloading dtool                 \u001b[0m \u001b[36mdtool\u001b[0m=\u001b[35mSysEnv\u001b[0m\n",
      "\u001b[2m2025-01-14 17:11:36\u001b[0m [\u001b[33m\u001b[1mwarning  \u001b[0m] \u001b[1mtool already exists           \u001b[0m \u001b[36mconflict_source\u001b[0m=\u001b[35m/home/jingkaihe/workspace/opsmate/opsmate/tools/__init__.py\u001b[0m \u001b[36mtool\u001b[0m=\u001b[35mSysEnv\u001b[0m\n",
      "\u001b[2m2025-01-14 17:11:36\u001b[0m [\u001b[32m\u001b[1mdebug    \u001b[0m] \u001b[1mloading dtool                 \u001b[0m \u001b[36mdtool\u001b[0m=\u001b[35mSysStats\u001b[0m\n",
      "\u001b[2m2025-01-14 17:11:36\u001b[0m [\u001b[33m\u001b[1mwarning  \u001b[0m] \u001b[1mtool already exists           \u001b[0m \u001b[36mconflict_source\u001b[0m=\u001b[35m/home/jingkaihe/workspace/opsmate/opsmate/tools/__init__.py\u001b[0m \u001b[36mtool\u001b[0m=\u001b[35mSysStats\u001b[0m\n",
      "\u001b[2m2025-01-14 17:11:36\u001b[0m [\u001b[32m\u001b[1mdebug    \u001b[0m] \u001b[1mloading dtool                 \u001b[0m \u001b[36mdtool\u001b[0m=\u001b[35mcurrent_time\u001b[0m\n",
      "\u001b[2m2025-01-14 17:11:36\u001b[0m [\u001b[33m\u001b[1mwarning  \u001b[0m] \u001b[1mtool already exists           \u001b[0m \u001b[36mconflict_source\u001b[0m=\u001b[35m/home/jingkaihe/workspace/opsmate/opsmate/tools/__init__.py\u001b[0m \u001b[36mtool\u001b[0m=\u001b[35mcurrent_time\u001b[0m\n",
      "\u001b[2m2025-01-14 17:11:36\u001b[0m [\u001b[32m\u001b[1mdebug    \u001b[0m] \u001b[1mloading dtool                 \u001b[0m \u001b[36mdtool\u001b[0m=\u001b[35mdatetime_extraction\u001b[0m\n",
      "\u001b[2m2025-01-14 17:11:36\u001b[0m [\u001b[33m\u001b[1mwarning  \u001b[0m] \u001b[1mtool already exists           \u001b[0m \u001b[36mconflict_source\u001b[0m=\u001b[35m/home/jingkaihe/workspace/opsmate/opsmate/tools/__init__.py\u001b[0m \u001b[36mtool\u001b[0m=\u001b[35mdatetime_extraction\u001b[0m\n",
      "\u001b[2m2025-01-14 17:11:36\u001b[0m [\u001b[32m\u001b[1minfo     \u001b[0m] \u001b[1madding the plugin directory to the sys path\u001b[0m \u001b[36mplugin_dir\u001b[0m=\u001b[35m/home/jingkaihe/workspace/opsmate/docs/cookbooks/plugins\u001b[0m\n",
      "\u001b[2m2025-01-14 17:11:36\u001b[0m [\u001b[32m\u001b[1minfo     \u001b[0m] \u001b[1mloading plugin file           \u001b[0m \u001b[36mplugin_path\u001b[0m=\u001b[35m./plugins/loki.py\u001b[0m\n",
      "\u001b[2m2025-01-14 17:11:36\u001b[0m [\u001b[32m\u001b[1minfo     \u001b[0m] \u001b[1mDiscovered plugin loki_logs   \u001b[0m\n",
      "\u001b[2m2025-01-14 17:11:36\u001b[0m [\u001b[32m\u001b[1mdebug    \u001b[0m] \u001b[1mloading dtool                 \u001b[0m \u001b[36mdtool\u001b[0m=\u001b[35mLokiBase\u001b[0m\n",
      "\u001b[2m2025-01-14 17:11:36\u001b[0m [\u001b[33m\u001b[1mwarning  \u001b[0m] \u001b[1mtool already exists           \u001b[0m \u001b[36mconflict_source\u001b[0m=\u001b[35m/home/jingkaihe/workspace/opsmate/docs/cookbooks/plugins/loki.py\u001b[0m \u001b[36mtool\u001b[0m=\u001b[35mLokiBase\u001b[0m\n",
      "\u001b[2m2025-01-14 17:11:36\u001b[0m [\u001b[32m\u001b[1mdebug    \u001b[0m] \u001b[1mloading dtool                 \u001b[0m \u001b[36mdtool\u001b[0m=\u001b[35mLokiLogs\u001b[0m\n",
      "\u001b[2m2025-01-14 17:11:36\u001b[0m [\u001b[33m\u001b[1mwarning  \u001b[0m] \u001b[1mtool already exists           \u001b[0m \u001b[36mconflict_source\u001b[0m=\u001b[35m/home/jingkaihe/workspace/opsmate/docs/cookbooks/plugins/loki.py\u001b[0m \u001b[36mtool\u001b[0m=\u001b[35mLokiLogs\u001b[0m\n",
      "\u001b[2m2025-01-14 17:11:36\u001b[0m [\u001b[32m\u001b[1mdebug    \u001b[0m] \u001b[1mloading dtool                 \u001b[0m \u001b[36mdtool\u001b[0m=\u001b[35mToolCall\u001b[0m\n",
      "\u001b[2m2025-01-14 17:11:36\u001b[0m [\u001b[33m\u001b[1mwarning  \u001b[0m] \u001b[1mtool already exists           \u001b[0m \u001b[36mconflict_source\u001b[0m=\u001b[35m/home/jingkaihe/workspace/opsmate/docs/cookbooks/plugins/loki.py\u001b[0m \u001b[36mtool\u001b[0m=\u001b[35mToolCall\u001b[0m\n",
      "\u001b[2m2025-01-14 17:11:36\u001b[0m [\u001b[32m\u001b[1mdebug    \u001b[0m] \u001b[1mloading dtool                 \u001b[0m \u001b[36mdtool\u001b[0m=\u001b[35mdatetime_extraction\u001b[0m\n",
      "\u001b[2m2025-01-14 17:11:36\u001b[0m [\u001b[33m\u001b[1mwarning  \u001b[0m] \u001b[1mtool already exists           \u001b[0m \u001b[36mconflict_source\u001b[0m=\u001b[35m/home/jingkaihe/workspace/opsmate/opsmate/tools/__init__.py\u001b[0m \u001b[36mtool\u001b[0m=\u001b[35mdatetime_extraction\u001b[0m\n",
      "\u001b[2m2025-01-14 17:11:36\u001b[0m [\u001b[32m\u001b[1minfo     \u001b[0m] \u001b[1mloaded plugin file            \u001b[0m \u001b[36mplugin_path\u001b[0m=\u001b[35m./plugins/loki.py\u001b[0m\n"
     ]
    },
    {
     "name": "stderr",
     "output_type": "stream",
     "text": [
      "/home/jingkaihe/workspace/opsmate/.venv/lib/python3.12/site-packages/pydantic/_internal/_config.py:345: UserWarning: Valid config keys have changed in V2:\n",
      "* 'underscore_attrs_are_private' has been removed\n",
      "  warnings.warn(message, UserWarning)\n"
     ]
    }
   ],
   "source": [
    "from opsmate.plugins import PluginRegistry as plugins\n",
    "\n",
    "plugins.clear()\n",
    "plugins.discover(\"./plugins\", ignore_conflicts=True)\n"
   ]
  },
  {
   "cell_type": "code",
   "execution_count": null,
   "metadata": {},
   "outputs": [],
   "source": []
  }
 ],
 "metadata": {
  "kernelspec": {
   "display_name": ".venv",
   "language": "python",
   "name": "python3"
  },
  "language_info": {
   "codemirror_mode": {
    "name": "ipython",
    "version": 3
   },
   "file_extension": ".py",
   "mimetype": "text/x-python",
   "name": "python",
   "nbconvert_exporter": "python",
   "pygments_lexer": "ipython3",
   "version": "3.12.3"
  }
 },
 "nbformat": 4,
 "nbformat_minor": 2
}
